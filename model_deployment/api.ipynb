{
 "cells": [
  {
   "cell_type": "code",
   "execution_count": null,
   "metadata": {},
   "outputs": [],
   "source": [
    "from flask import Flask\n",
    "from flask_restx import Api, Resource, fields\n",
    "from sklearn.externals import joblib"
   ]
  },
  {
   "cell_type": "code",
   "execution_count": null,
   "metadata": {},
   "outputs": [],
   "source": [
    "app = Flask(__name__)\n",
    "\n",
    "api = Api(\n",
    "    app,\n",
    "    version='1.0',\n",
    "    title = 'Prediciendo el precio de un automóvil',\n",
    "    description = 'Modelo XGBoost para predecir el precio')\n",
    "\n",
    "ns = api.namespace('predict', \n",
    "     description='Auto price predictor')\n",
    "   \n",
    "parser = api.parser()\n",
    "\n",
    "parser.add_argument(\n",
    "    'Year/Año', \n",
    "    type=int, \n",
    "    required=True, \n",
    "    help='Año/Modelo del vehículo', \n",
    "    location='args')\n",
    "\n",
    "parser.add_argument(\n",
    "    'Mileage/Millaje', \n",
    "    type=int, \n",
    "    required=True, \n",
    "    help='Millas recorridas en el vehículo', \n",
    "    location='args')\n",
    "\n",
    "parser.add_argument(\n",
    "    'State/Estado', \n",
    "    type=str, \n",
    "    required=True, \n",
    "    help='Estado de los Estados Unidos de América. Ingresar un argumento de máximo 2 posiciones', \n",
    "    location='args')\n",
    "\n",
    "parser.add_argument(\n",
    "    'Make/Fabricante', \n",
    "    type=str, \n",
    "    required=True, \n",
    "    help='Fabricante del vehículo', \n",
    "    location='args')\n",
    "\n",
    "parser.add_argument(\n",
    "    'Model', \n",
    "    type=str, \n",
    "    required=True, \n",
    "    help='Modelo del vehículo', \n",
    "    location='args')\n",
    "\n",
    "\n",
    "resource_fields = api.model('Resource', {\n",
    "    'result': fields.String,\n",
    "})"
   ]
  },
  {
   "cell_type": "code",
   "execution_count": null,
   "metadata": {},
   "outputs": [],
   "source": [
    "from model_deployment.model_deployment_price import predict_price"
   ]
  },
  {
   "cell_type": "code",
   "execution_count": null,
   "metadata": {},
   "outputs": [],
   "source": [
    "@ns.route('/')\n",
    "\n",
    "class PriceApi(Resource):\n",
    "\n",
    "    @api.doc(parser=parser)\n",
    "    @api.marshal_with(resource_fields)\n",
    "    def get(self):\n",
    "        args = parser.parse_args()\n",
    "        \n",
    "        years = args['Year/Año'] \n",
    "        mil = args['Mileage/Millaje'] \n",
    "        stat = args['State/Estado']\n",
    "        meik = args['Make/Fabricante']\n",
    "        mod = args['Model']\n",
    "        return {\n",
    "         \"result\": predict_price(years, mil, stat, meik, mod)\n",
    "        }, 200\n",
    "    \n",
    "    \n",
    "if __name__ == '__main__':\n",
    "    app.run(debug=True, use_reloader=False, host='0.0.0.0', port=5000)"
   ]
  },
  {
   "cell_type": "markdown",
   "metadata": {},
   "source": [
    "### Resultados del cargue de la API en AWS"
   ]
  },
  {
   "cell_type": "markdown",
   "metadata": {},
   "source": [
    "![title](API_0.png)"
   ]
  },
  {
   "cell_type": "markdown",
   "metadata": {},
   "source": [
    "![title](API_1.png)"
   ]
  },
  {
   "cell_type": "markdown",
   "metadata": {},
   "source": [
    "![title](API_2.png)"
   ]
  },
  {
   "cell_type": "code",
   "execution_count": null,
   "metadata": {},
   "outputs": [],
   "source": []
  }
 ],
 "metadata": {
  "kernelspec": {
   "display_name": "Python 3",
   "language": "python",
   "name": "python3"
  },
  "language_info": {
   "codemirror_mode": {
    "name": "ipython",
    "version": 3
   },
   "file_extension": ".py",
   "mimetype": "text/x-python",
   "name": "python",
   "nbconvert_exporter": "python",
   "pygments_lexer": "ipython3",
   "version": "3.7.3"
  }
 },
 "nbformat": 4,
 "nbformat_minor": 2
}
