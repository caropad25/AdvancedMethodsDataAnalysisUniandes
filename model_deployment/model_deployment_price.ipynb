{
 "cells": [
  {
   "cell_type": "code",
   "execution_count": null,
   "metadata": {},
   "outputs": [],
   "source": [
    "import numpy as np\n",
    "import pandas as pd\n",
    "from sklearn.externals import joblib\n",
    "from sklearn.decomposition import PCA\n",
    "import sys\n",
    "import os"
   ]
  },
  {
   "cell_type": "code",
   "execution_count": null,
   "metadata": {
    "scrolled": true
   },
   "outputs": [],
   "source": [
    "def predict_price(year, mileage, state, make, model):\n",
    "    # \n",
    "    reg = joblib.load(os.path.dirname(__file__) + '/price_reg.pkl')\n",
    "    year_mil = pd.DataFrame(data = [[year,mileage]], columns = ['Year', 'Mileage']).astype(int)\n",
    "    categoricas = pd.DataFrame(data = [[state, make, model]],columns = ['State', 'Make', 'Model']).astype(str)\n",
    "    data_input = pd.merge(year_mil,categoricas, left_index = True, right_index=True)\n",
    "    #print(data_input)\n",
    "    \n",
    "    data = pd.read_csv('dataTrain_carListings.csv')\n",
    "    \n",
    "    data = data.append(data_input)\n",
    "    \n",
    "    X_2 = pd.get_dummies(data[['State', 'Make', 'Model']])\n",
    "    pca = PCA(n_components = 100).fit(X_2)\n",
    "    #print(pca)\n",
    "    \n",
    "    componentes = []\n",
    "    \n",
    "    for i in range(0,99):\n",
    "        comp = np.dot(X_2[-1:], pca.components_[i])\n",
    "        componentes.append(comp)\n",
    "    pcadf = pd.DataFrame(np.vstack((componentes)).T)\n",
    "    \n",
    "    X = pd.merge(year_mil, pcadf, left_index = True, right_index=True)\n",
    "    #print(X)\n",
    "    \n",
    "    #Make prediction\n",
    "    pred_precio = reg.predict(X)\n",
    "    \n",
    "    return pred_precio\n",
    "\n",
    "if __name__ == \"__main__\":\n",
    "    \n",
    "    pred_precio = predict_price(year, mileage, state, make, model)\n",
    "    print(year, mileage, state, make, model)\n",
    "    print(\"Precio pronosticado\", pred_precio)"
   ]
  }
 ],
 "metadata": {
  "kernelspec": {
   "display_name": "Python 3",
   "language": "python",
   "name": "python3"
  },
  "language_info": {
   "codemirror_mode": {
    "name": "ipython",
    "version": 3
   },
   "file_extension": ".py",
   "mimetype": "text/x-python",
   "name": "python",
   "nbconvert_exporter": "python",
   "pygments_lexer": "ipython3",
   "version": "3.7.3"
  }
 },
 "nbformat": 4,
 "nbformat_minor": 2
}
