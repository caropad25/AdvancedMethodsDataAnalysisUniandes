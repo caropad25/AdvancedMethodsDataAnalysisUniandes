{
 "cells": [
  {
   "cell_type": "markdown",
   "metadata": {},
   "source": [
    "# Project 2\n",
    "\n",
    "# Used Vehicle Price Prediction"
   ]
  },
  {
   "cell_type": "markdown",
   "metadata": {},
   "source": [
    "### Angela Fernanda Romero Fonseca - 201819276\n",
    "### Carolina Padilla Hernández -201111402\n",
    "### Juan Camilo Florez Caro - 201620135\n",
    "### Juan Fernando Ortiz Serrano- 200623117"
   ]
  },
  {
   "cell_type": "markdown",
   "metadata": {},
   "source": [
    "## Introduction\n",
    "\n",
    "- 1.2 Million listings scraped from TrueCar.com - Price, Mileage, Make, Model dataset from Kaggle: [data](https://www.kaggle.com/jpayne/852k-used-car-listings)\n",
    "- Each observation represents the price of an used car"
   ]
  },
  {
   "cell_type": "code",
   "execution_count": 1,
   "metadata": {},
   "outputs": [],
   "source": [
    "%matplotlib inline\n",
    "import pandas as pd\n",
    "import numpy as np"
   ]
  },
  {
   "cell_type": "code",
   "execution_count": 2,
   "metadata": {},
   "outputs": [],
   "source": [
    "data = pd.read_csv('dataTrain_carListings.csv')"
   ]
  },
  {
   "cell_type": "code",
   "execution_count": 3,
   "metadata": {},
   "outputs": [
    {
     "data": {
      "text/html": [
       "<div>\n",
       "<style scoped>\n",
       "    .dataframe tbody tr th:only-of-type {\n",
       "        vertical-align: middle;\n",
       "    }\n",
       "\n",
       "    .dataframe tbody tr th {\n",
       "        vertical-align: top;\n",
       "    }\n",
       "\n",
       "    .dataframe thead th {\n",
       "        text-align: right;\n",
       "    }\n",
       "</style>\n",
       "<table border=\"1\" class=\"dataframe\">\n",
       "  <thead>\n",
       "    <tr style=\"text-align: right;\">\n",
       "      <th></th>\n",
       "      <th>Price</th>\n",
       "      <th>Year</th>\n",
       "      <th>Mileage</th>\n",
       "      <th>State</th>\n",
       "      <th>Make</th>\n",
       "      <th>Model</th>\n",
       "    </tr>\n",
       "  </thead>\n",
       "  <tbody>\n",
       "    <tr>\n",
       "      <th>0</th>\n",
       "      <td>21490</td>\n",
       "      <td>2014</td>\n",
       "      <td>31909</td>\n",
       "      <td>MD</td>\n",
       "      <td>Nissan</td>\n",
       "      <td>MuranoAWD</td>\n",
       "    </tr>\n",
       "    <tr>\n",
       "      <th>1</th>\n",
       "      <td>21250</td>\n",
       "      <td>2016</td>\n",
       "      <td>25741</td>\n",
       "      <td>KY</td>\n",
       "      <td>Chevrolet</td>\n",
       "      <td>CamaroCoupe</td>\n",
       "    </tr>\n",
       "    <tr>\n",
       "      <th>2</th>\n",
       "      <td>20925</td>\n",
       "      <td>2016</td>\n",
       "      <td>24633</td>\n",
       "      <td>SC</td>\n",
       "      <td>Hyundai</td>\n",
       "      <td>Santa</td>\n",
       "    </tr>\n",
       "    <tr>\n",
       "      <th>3</th>\n",
       "      <td>14500</td>\n",
       "      <td>2012</td>\n",
       "      <td>84026</td>\n",
       "      <td>OK</td>\n",
       "      <td>Jeep</td>\n",
       "      <td>Grand</td>\n",
       "    </tr>\n",
       "    <tr>\n",
       "      <th>4</th>\n",
       "      <td>32488</td>\n",
       "      <td>2013</td>\n",
       "      <td>22816</td>\n",
       "      <td>TN</td>\n",
       "      <td>Jeep</td>\n",
       "      <td>Wrangler</td>\n",
       "    </tr>\n",
       "  </tbody>\n",
       "</table>\n",
       "</div>"
      ],
      "text/plain": [
       "   Price  Year  Mileage State       Make        Model\n",
       "0  21490  2014    31909    MD     Nissan    MuranoAWD\n",
       "1  21250  2016    25741    KY  Chevrolet  CamaroCoupe\n",
       "2  20925  2016    24633    SC    Hyundai        Santa\n",
       "3  14500  2012    84026    OK       Jeep        Grand\n",
       "4  32488  2013    22816    TN       Jeep     Wrangler"
      ]
     },
     "execution_count": 3,
     "metadata": {},
     "output_type": "execute_result"
    }
   ],
   "source": [
    "data.head()"
   ]
  },
  {
   "cell_type": "code",
   "execution_count": 4,
   "metadata": {},
   "outputs": [
    {
     "data": {
      "text/plain": [
       "(500000, 6)"
      ]
     },
     "execution_count": 4,
     "metadata": {},
     "output_type": "execute_result"
    }
   ],
   "source": [
    "data.shape"
   ]
  },
  {
   "cell_type": "code",
   "execution_count": 5,
   "metadata": {},
   "outputs": [
    {
     "data": {
      "text/plain": [
       "count    500000.000000\n",
       "mean      21144.186304\n",
       "std       10753.259704\n",
       "min        5001.000000\n",
       "25%       13499.000000\n",
       "50%       18450.000000\n",
       "75%       26998.000000\n",
       "max       79999.000000\n",
       "Name: Price, dtype: float64"
      ]
     },
     "execution_count": 5,
     "metadata": {},
     "output_type": "execute_result"
    }
   ],
   "source": [
    "data.Price.describe()"
   ]
  },
  {
   "cell_type": "code",
   "execution_count": 6,
   "metadata": {},
   "outputs": [
    {
     "data": {
      "text/plain": [
       "<matplotlib.axes._subplots.AxesSubplot at 0x1e7033a3940>"
      ]
     },
     "execution_count": 6,
     "metadata": {},
     "output_type": "execute_result"
    },
    {
     "data": {
      "image/png": "[encoded data removed]",
      "text/plain": [
       "<Figure size 432x288 with 1 Axes>"
      ]
     },
     "metadata": {
      "needs_background": "light"
     },
     "output_type": "display_data"
    }
   ],
   "source": [
    "data.plot(kind='scatter', y='Price', x='Year')"
   ]
  },
  {
   "cell_type": "code",
   "execution_count": 7,
   "metadata": {},
   "outputs": [
    {
     "data": {
      "text/plain": [
       "<matplotlib.axes._subplots.AxesSubplot at 0x1e703a82550>"
      ]
     },
     "execution_count": 7,
     "metadata": {},
     "output_type": "execute_result"
    },
    {
     "data": {
      "image/png": "[encoded data removed]",
      "text/plain": [
       "<Figure size 432x288 with 1 Axes>"
      ]
     },
     "metadata": {
      "needs_background": "light"
     },
     "output_type": "display_data"
    }
   ],
   "source": [
    "data.plot(kind='scatter', y='Price', x='Mileage')"
   ]
  },
  {
   "cell_type": "code",
   "execution_count": 10,
   "metadata": {},
   "outputs": [
    {
     "data": {
      "text/plain": [
       "Index(['Price', 'Year', 'Mileage', 'State', 'Make', 'Model'], dtype='object')"
      ]
     },
     "execution_count": 10,
     "metadata": {},
     "output_type": "execute_result"
    }
   ],
   "source": [
    "data.columns"
   ]
  },
  {
   "cell_type": "markdown",
   "metadata": {},
   "source": [
    "# Exercise P2.1 (50%)\n",
    "\n",
    "Develop a machine learning model that predicts the price of the of car using as an input ['Year', 'Mileage', 'State', 'Make', 'Model']\n",
    "\n",
    "#### Evaluation:\n",
    "- 25% - Performance of the models using a manually implemented K-Fold (K=10) cross-validation\n",
    "- 25% - Notebook explaining the process for selecting the best model. You must specify how the calibration of each of the parameters is done and how these change the performance of the model. It is expected that a clear comparison will be made of all implemented models.. Present the most relevant conslusions about the whole process. \n"
   ]
  },
  {
   "cell_type": "markdown",
   "metadata": {},
   "source": [
    "#### Definición de X y y"
   ]
  },
  {
   "cell_type": "code",
   "execution_count": 8,
   "metadata": {
    "scrolled": true
   },
   "outputs": [
    {
     "data": {
      "text/html": [
       "<div>\n",
       "<style scoped>\n",
       "    .dataframe tbody tr th:only-of-type {\n",
       "        vertical-align: middle;\n",
       "    }\n",
       "\n",
       "    .dataframe tbody tr th {\n",
       "        vertical-align: top;\n",
       "    }\n",
       "\n",
       "    .dataframe thead th {\n",
       "        text-align: right;\n",
       "    }\n",
       "</style>\n",
       "<table border=\"1\" class=\"dataframe\">\n",
       "  <thead>\n",
       "    <tr style=\"text-align: right;\">\n",
       "      <th></th>\n",
       "      <th>Year</th>\n",
       "      <th>Mileage</th>\n",
       "      <th>State</th>\n",
       "      <th>Make</th>\n",
       "      <th>Model</th>\n",
       "    </tr>\n",
       "  </thead>\n",
       "  <tbody>\n",
       "    <tr>\n",
       "      <th>0</th>\n",
       "      <td>2014</td>\n",
       "      <td>31909</td>\n",
       "      <td>MD</td>\n",
       "      <td>Nissan</td>\n",
       "      <td>MuranoAWD</td>\n",
       "    </tr>\n",
       "    <tr>\n",
       "      <th>1</th>\n",
       "      <td>2016</td>\n",
       "      <td>25741</td>\n",
       "      <td>KY</td>\n",
       "      <td>Chevrolet</td>\n",
       "      <td>CamaroCoupe</td>\n",
       "    </tr>\n",
       "    <tr>\n",
       "      <th>2</th>\n",
       "      <td>2016</td>\n",
       "      <td>24633</td>\n",
       "      <td>SC</td>\n",
       "      <td>Hyundai</td>\n",
       "      <td>Santa</td>\n",
       "    </tr>\n",
       "    <tr>\n",
       "      <th>3</th>\n",
       "      <td>2012</td>\n",
       "      <td>84026</td>\n",
       "      <td>OK</td>\n",
       "      <td>Jeep</td>\n",
       "      <td>Grand</td>\n",
       "    </tr>\n",
       "    <tr>\n",
       "      <th>4</th>\n",
       "      <td>2013</td>\n",
       "      <td>22816</td>\n",
       "      <td>TN</td>\n",
       "      <td>Jeep</td>\n",
       "      <td>Wrangler</td>\n",
       "    </tr>\n",
       "    <tr>\n",
       "      <th>5</th>\n",
       "      <td>2017</td>\n",
       "      <td>5362</td>\n",
       "      <td>FL</td>\n",
       "      <td>Jeep</td>\n",
       "      <td>Wrangler</td>\n",
       "    </tr>\n",
       "    <tr>\n",
       "      <th>6</th>\n",
       "      <td>2010</td>\n",
       "      <td>69431</td>\n",
       "      <td>NH</td>\n",
       "      <td>Ford</td>\n",
       "      <td>F-1504WD</td>\n",
       "    </tr>\n",
       "    <tr>\n",
       "      <th>7</th>\n",
       "      <td>2015</td>\n",
       "      <td>35090</td>\n",
       "      <td>WI</td>\n",
       "      <td>Ford</td>\n",
       "      <td>ExplorerXLT</td>\n",
       "    </tr>\n",
       "    <tr>\n",
       "      <th>8</th>\n",
       "      <td>2012</td>\n",
       "      <td>35100</td>\n",
       "      <td>NY</td>\n",
       "      <td>Hyundai</td>\n",
       "      <td>Sonata4dr</td>\n",
       "    </tr>\n",
       "    <tr>\n",
       "      <th>9</th>\n",
       "      <td>2017</td>\n",
       "      <td>14238</td>\n",
       "      <td>TX</td>\n",
       "      <td>Kia</td>\n",
       "      <td>SorentoSX</td>\n",
       "    </tr>\n",
       "    <tr>\n",
       "      <th>10</th>\n",
       "      <td>2012</td>\n",
       "      <td>97579</td>\n",
       "      <td>NJ</td>\n",
       "      <td>Mercedes-Benz</td>\n",
       "      <td>M-ClassML350</td>\n",
       "    </tr>\n",
       "    <tr>\n",
       "      <th>11</th>\n",
       "      <td>2016</td>\n",
       "      <td>43569</td>\n",
       "      <td>MI</td>\n",
       "      <td>Dodge</td>\n",
       "      <td>JourneyFWD</td>\n",
       "    </tr>\n",
       "    <tr>\n",
       "      <th>12</th>\n",
       "      <td>2015</td>\n",
       "      <td>19790</td>\n",
       "      <td>AL</td>\n",
       "      <td>Ford</td>\n",
       "      <td>Super</td>\n",
       "    </tr>\n",
       "    <tr>\n",
       "      <th>13</th>\n",
       "      <td>2016</td>\n",
       "      <td>10627</td>\n",
       "      <td>CA</td>\n",
       "      <td>GMC</td>\n",
       "      <td>Sierra</td>\n",
       "    </tr>\n",
       "    <tr>\n",
       "      <th>14</th>\n",
       "      <td>2014</td>\n",
       "      <td>23380</td>\n",
       "      <td>NC</td>\n",
       "      <td>Chevrolet</td>\n",
       "      <td>Silverado</td>\n",
       "    </tr>\n",
       "    <tr>\n",
       "      <th>15</th>\n",
       "      <td>2016</td>\n",
       "      <td>29242</td>\n",
       "      <td>GA</td>\n",
       "      <td>Toyota</td>\n",
       "      <td>CamryLE</td>\n",
       "    </tr>\n",
       "    <tr>\n",
       "      <th>16</th>\n",
       "      <td>2012</td>\n",
       "      <td>104914</td>\n",
       "      <td>OR</td>\n",
       "      <td>Honda</td>\n",
       "      <td>OdysseyEX-L</td>\n",
       "    </tr>\n",
       "    <tr>\n",
       "      <th>17</th>\n",
       "      <td>2017</td>\n",
       "      <td>9799</td>\n",
       "      <td>TN</td>\n",
       "      <td>Chevrolet</td>\n",
       "      <td>Silverado</td>\n",
       "    </tr>\n",
       "    <tr>\n",
       "      <th>18</th>\n",
       "      <td>2016</td>\n",
       "      <td>40898</td>\n",
       "      <td>TX</td>\n",
       "      <td>Ford</td>\n",
       "      <td>F-1504WD</td>\n",
       "    </tr>\n",
       "    <tr>\n",
       "      <th>19</th>\n",
       "      <td>2015</td>\n",
       "      <td>19459</td>\n",
       "      <td>OR</td>\n",
       "      <td>Nissan</td>\n",
       "      <td>Pathfinder4WD</td>\n",
       "    </tr>\n",
       "    <tr>\n",
       "      <th>20</th>\n",
       "      <td>2015</td>\n",
       "      <td>37525</td>\n",
       "      <td>OH</td>\n",
       "      <td>GMC</td>\n",
       "      <td>AcadiaFWD</td>\n",
       "    </tr>\n",
       "    <tr>\n",
       "      <th>21</th>\n",
       "      <td>2014</td>\n",
       "      <td>30586</td>\n",
       "      <td>CA</td>\n",
       "      <td>GMC</td>\n",
       "      <td>Sierra</td>\n",
       "    </tr>\n",
       "    <tr>\n",
       "      <th>22</th>\n",
       "      <td>2014</td>\n",
       "      <td>84027</td>\n",
       "      <td>AR</td>\n",
       "      <td>Ford</td>\n",
       "      <td>EscapeSE</td>\n",
       "    </tr>\n",
       "    <tr>\n",
       "      <th>23</th>\n",
       "      <td>2017</td>\n",
       "      <td>19114</td>\n",
       "      <td>TX</td>\n",
       "      <td>Chevrolet</td>\n",
       "      <td>Express</td>\n",
       "    </tr>\n",
       "    <tr>\n",
       "      <th>24</th>\n",
       "      <td>2017</td>\n",
       "      <td>19514</td>\n",
       "      <td>CA</td>\n",
       "      <td>Ford</td>\n",
       "      <td>F-150XLT</td>\n",
       "    </tr>\n",
       "    <tr>\n",
       "      <th>25</th>\n",
       "      <td>2014</td>\n",
       "      <td>43454</td>\n",
       "      <td>AL</td>\n",
       "      <td>Ford</td>\n",
       "      <td>EdgeSEL</td>\n",
       "    </tr>\n",
       "    <tr>\n",
       "      <th>26</th>\n",
       "      <td>2012</td>\n",
       "      <td>78536</td>\n",
       "      <td>VA</td>\n",
       "      <td>Volkswagen</td>\n",
       "      <td>Passat4dr</td>\n",
       "    </tr>\n",
       "    <tr>\n",
       "      <th>27</th>\n",
       "      <td>2016</td>\n",
       "      <td>37824</td>\n",
       "      <td>WA</td>\n",
       "      <td>Volkswagen</td>\n",
       "      <td>Passat4dr</td>\n",
       "    </tr>\n",
       "    <tr>\n",
       "      <th>28</th>\n",
       "      <td>2014</td>\n",
       "      <td>29573</td>\n",
       "      <td>IL</td>\n",
       "      <td>Ford</td>\n",
       "      <td>EdgeSport</td>\n",
       "    </tr>\n",
       "    <tr>\n",
       "      <th>29</th>\n",
       "      <td>2014</td>\n",
       "      <td>50300</td>\n",
       "      <td>OH</td>\n",
       "      <td>Ford</td>\n",
       "      <td>FlexLimited</td>\n",
       "    </tr>\n",
       "    <tr>\n",
       "      <th>...</th>\n",
       "      <td>...</td>\n",
       "      <td>...</td>\n",
       "      <td>...</td>\n",
       "      <td>...</td>\n",
       "      <td>...</td>\n",
       "    </tr>\n",
       "    <tr>\n",
       "      <th>499970</th>\n",
       "      <td>2017</td>\n",
       "      <td>7744</td>\n",
       "      <td>IL</td>\n",
       "      <td>Chevrolet</td>\n",
       "      <td>CamaroCoupe</td>\n",
       "    </tr>\n",
       "    <tr>\n",
       "      <th>499971</th>\n",
       "      <td>2014</td>\n",
       "      <td>42032</td>\n",
       "      <td>CA</td>\n",
       "      <td>Toyota</td>\n",
       "      <td>CamryL</td>\n",
       "    </tr>\n",
       "    <tr>\n",
       "      <th>499972</th>\n",
       "      <td>2017</td>\n",
       "      <td>21503</td>\n",
       "      <td>VA</td>\n",
       "      <td>Ford</td>\n",
       "      <td>F-150XLT</td>\n",
       "    </tr>\n",
       "    <tr>\n",
       "      <th>499973</th>\n",
       "      <td>2017</td>\n",
       "      <td>28408</td>\n",
       "      <td>UT</td>\n",
       "      <td>Chrysler</td>\n",
       "      <td>PacificaTouring</td>\n",
       "    </tr>\n",
       "    <tr>\n",
       "      <th>499974</th>\n",
       "      <td>2017</td>\n",
       "      <td>29321</td>\n",
       "      <td>NC</td>\n",
       "      <td>Hyundai</td>\n",
       "      <td>Elantra4dr</td>\n",
       "    </tr>\n",
       "    <tr>\n",
       "      <th>499975</th>\n",
       "      <td>2016</td>\n",
       "      <td>26316</td>\n",
       "      <td>NM</td>\n",
       "      <td>Toyota</td>\n",
       "      <td>SiennaSE</td>\n",
       "    </tr>\n",
       "    <tr>\n",
       "      <th>499976</th>\n",
       "      <td>2016</td>\n",
       "      <td>37820</td>\n",
       "      <td>MI</td>\n",
       "      <td>Jeep</td>\n",
       "      <td>CompassSport</td>\n",
       "    </tr>\n",
       "    <tr>\n",
       "      <th>499977</th>\n",
       "      <td>2015</td>\n",
       "      <td>19711</td>\n",
       "      <td>UT</td>\n",
       "      <td>BMW</td>\n",
       "      <td>5</td>\n",
       "    </tr>\n",
       "    <tr>\n",
       "      <th>499978</th>\n",
       "      <td>2013</td>\n",
       "      <td>67758</td>\n",
       "      <td>SC</td>\n",
       "      <td>Volkswagen</td>\n",
       "      <td>Jetta</td>\n",
       "    </tr>\n",
       "    <tr>\n",
       "      <th>499979</th>\n",
       "      <td>2015</td>\n",
       "      <td>11839</td>\n",
       "      <td>OR</td>\n",
       "      <td>BMW</td>\n",
       "      <td>3</td>\n",
       "    </tr>\n",
       "    <tr>\n",
       "      <th>499980</th>\n",
       "      <td>2015</td>\n",
       "      <td>85834</td>\n",
       "      <td>TX</td>\n",
       "      <td>Chevrolet</td>\n",
       "      <td>Silverado</td>\n",
       "    </tr>\n",
       "    <tr>\n",
       "      <th>499981</th>\n",
       "      <td>2017</td>\n",
       "      <td>11747</td>\n",
       "      <td>CA</td>\n",
       "      <td>Chevrolet</td>\n",
       "      <td>CamaroCoupe</td>\n",
       "    </tr>\n",
       "    <tr>\n",
       "      <th>499982</th>\n",
       "      <td>2016</td>\n",
       "      <td>48049</td>\n",
       "      <td>CA</td>\n",
       "      <td>Nissan</td>\n",
       "      <td>MuranoAWD</td>\n",
       "    </tr>\n",
       "    <tr>\n",
       "      <th>499983</th>\n",
       "      <td>2015</td>\n",
       "      <td>43512</td>\n",
       "      <td>IN</td>\n",
       "      <td>Dodge</td>\n",
       "      <td>Grand</td>\n",
       "    </tr>\n",
       "    <tr>\n",
       "      <th>499984</th>\n",
       "      <td>2014</td>\n",
       "      <td>65762</td>\n",
       "      <td>WI</td>\n",
       "      <td>Nissan</td>\n",
       "      <td>MuranoAWD</td>\n",
       "    </tr>\n",
       "    <tr>\n",
       "      <th>499985</th>\n",
       "      <td>2013</td>\n",
       "      <td>54194</td>\n",
       "      <td>NY</td>\n",
       "      <td>Chrysler</td>\n",
       "      <td>Town</td>\n",
       "    </tr>\n",
       "    <tr>\n",
       "      <th>499986</th>\n",
       "      <td>2017</td>\n",
       "      <td>15306</td>\n",
       "      <td>CO</td>\n",
       "      <td>Jeep</td>\n",
       "      <td>PatriotSport</td>\n",
       "    </tr>\n",
       "    <tr>\n",
       "      <th>499987</th>\n",
       "      <td>2012</td>\n",
       "      <td>22579</td>\n",
       "      <td>IN</td>\n",
       "      <td>Ford</td>\n",
       "      <td>Mustang2dr</td>\n",
       "    </tr>\n",
       "    <tr>\n",
       "      <th>499988</th>\n",
       "      <td>2015</td>\n",
       "      <td>33374</td>\n",
       "      <td>FL</td>\n",
       "      <td>Ford</td>\n",
       "      <td>ExplorerXLT</td>\n",
       "    </tr>\n",
       "    <tr>\n",
       "      <th>499989</th>\n",
       "      <td>2016</td>\n",
       "      <td>28810</td>\n",
       "      <td>FL</td>\n",
       "      <td>Honda</td>\n",
       "      <td>AccordEX</td>\n",
       "    </tr>\n",
       "    <tr>\n",
       "      <th>499990</th>\n",
       "      <td>2015</td>\n",
       "      <td>4297</td>\n",
       "      <td>FL</td>\n",
       "      <td>Mercedes-Benz</td>\n",
       "      <td>C-ClassC300</td>\n",
       "    </tr>\n",
       "    <tr>\n",
       "      <th>499991</th>\n",
       "      <td>2012</td>\n",
       "      <td>110427</td>\n",
       "      <td>CA</td>\n",
       "      <td>Toyota</td>\n",
       "      <td>Camry4dr</td>\n",
       "    </tr>\n",
       "    <tr>\n",
       "      <th>499992</th>\n",
       "      <td>2013</td>\n",
       "      <td>83474</td>\n",
       "      <td>TX</td>\n",
       "      <td>Toyota</td>\n",
       "      <td>TacomaPreRunner</td>\n",
       "    </tr>\n",
       "    <tr>\n",
       "      <th>499993</th>\n",
       "      <td>2010</td>\n",
       "      <td>99841</td>\n",
       "      <td>IL</td>\n",
       "      <td>Ford</td>\n",
       "      <td>Expedition</td>\n",
       "    </tr>\n",
       "    <tr>\n",
       "      <th>499994</th>\n",
       "      <td>2017</td>\n",
       "      <td>26065</td>\n",
       "      <td>VA</td>\n",
       "      <td>Ford</td>\n",
       "      <td>Escape4WD</td>\n",
       "    </tr>\n",
       "    <tr>\n",
       "      <th>499995</th>\n",
       "      <td>2013</td>\n",
       "      <td>40393</td>\n",
       "      <td>TX</td>\n",
       "      <td>BMW</td>\n",
       "      <td>1</td>\n",
       "    </tr>\n",
       "    <tr>\n",
       "      <th>499996</th>\n",
       "      <td>2012</td>\n",
       "      <td>91794</td>\n",
       "      <td>WA</td>\n",
       "      <td>Hyundai</td>\n",
       "      <td>Santa</td>\n",
       "    </tr>\n",
       "    <tr>\n",
       "      <th>499997</th>\n",
       "      <td>2014</td>\n",
       "      <td>39107</td>\n",
       "      <td>MS</td>\n",
       "      <td>Ford</td>\n",
       "      <td>Super</td>\n",
       "    </tr>\n",
       "    <tr>\n",
       "      <th>499998</th>\n",
       "      <td>2010</td>\n",
       "      <td>62556</td>\n",
       "      <td>NH</td>\n",
       "      <td>Dodge</td>\n",
       "      <td>Ram</td>\n",
       "    </tr>\n",
       "    <tr>\n",
       "      <th>499999</th>\n",
       "      <td>2017</td>\n",
       "      <td>17653</td>\n",
       "      <td>NJ</td>\n",
       "      <td>Chevrolet</td>\n",
       "      <td>Suburban4WD</td>\n",
       "    </tr>\n",
       "  </tbody>\n",
       "</table>\n",
       "<p>500000 rows × 5 columns</p>\n",
       "</div>"
      ],
      "text/plain": [
       "        Year  Mileage State           Make            Model\n",
       "0       2014    31909    MD         Nissan        MuranoAWD\n",
       "1       2016    25741    KY      Chevrolet      CamaroCoupe\n",
       "2       2016    24633    SC        Hyundai            Santa\n",
       "3       2012    84026    OK           Jeep            Grand\n",
       "4       2013    22816    TN           Jeep         Wrangler\n",
       "5       2017     5362    FL           Jeep         Wrangler\n",
       "6       2010    69431    NH           Ford         F-1504WD\n",
       "7       2015    35090    WI           Ford      ExplorerXLT\n",
       "8       2012    35100    NY        Hyundai        Sonata4dr\n",
       "9       2017    14238    TX            Kia        SorentoSX\n",
       "10      2012    97579    NJ  Mercedes-Benz     M-ClassML350\n",
       "11      2016    43569    MI          Dodge       JourneyFWD\n",
       "12      2015    19790    AL           Ford            Super\n",
       "13      2016    10627    CA            GMC           Sierra\n",
       "14      2014    23380    NC      Chevrolet        Silverado\n",
       "15      2016    29242    GA         Toyota          CamryLE\n",
       "16      2012   104914    OR          Honda      OdysseyEX-L\n",
       "17      2017     9799    TN      Chevrolet        Silverado\n",
       "18      2016    40898    TX           Ford         F-1504WD\n",
       "19      2015    19459    OR         Nissan    Pathfinder4WD\n",
       "20      2015    37525    OH            GMC        AcadiaFWD\n",
       "21      2014    30586    CA            GMC           Sierra\n",
       "22      2014    84027    AR           Ford         EscapeSE\n",
       "23      2017    19114    TX      Chevrolet          Express\n",
       "24      2017    19514    CA           Ford         F-150XLT\n",
       "25      2014    43454    AL           Ford          EdgeSEL\n",
       "26      2012    78536    VA     Volkswagen        Passat4dr\n",
       "27      2016    37824    WA     Volkswagen        Passat4dr\n",
       "28      2014    29573    IL           Ford        EdgeSport\n",
       "29      2014    50300    OH           Ford      FlexLimited\n",
       "...      ...      ...   ...            ...              ...\n",
       "499970  2017     7744    IL      Chevrolet      CamaroCoupe\n",
       "499971  2014    42032    CA         Toyota           CamryL\n",
       "499972  2017    21503    VA           Ford         F-150XLT\n",
       "499973  2017    28408    UT       Chrysler  PacificaTouring\n",
       "499974  2017    29321    NC        Hyundai       Elantra4dr\n",
       "499975  2016    26316    NM         Toyota         SiennaSE\n",
       "499976  2016    37820    MI           Jeep     CompassSport\n",
       "499977  2015    19711    UT            BMW                5\n",
       "499978  2013    67758    SC     Volkswagen            Jetta\n",
       "499979  2015    11839    OR            BMW                3\n",
       "499980  2015    85834    TX      Chevrolet        Silverado\n",
       "499981  2017    11747    CA      Chevrolet      CamaroCoupe\n",
       "499982  2016    48049    CA         Nissan        MuranoAWD\n",
       "499983  2015    43512    IN          Dodge            Grand\n",
       "499984  2014    65762    WI         Nissan        MuranoAWD\n",
       "499985  2013    54194    NY       Chrysler             Town\n",
       "499986  2017    15306    CO           Jeep     PatriotSport\n",
       "499987  2012    22579    IN           Ford       Mustang2dr\n",
       "499988  2015    33374    FL           Ford      ExplorerXLT\n",
       "499989  2016    28810    FL          Honda         AccordEX\n",
       "499990  2015     4297    FL  Mercedes-Benz      C-ClassC300\n",
       "499991  2012   110427    CA         Toyota         Camry4dr\n",
       "499992  2013    83474    TX         Toyota  TacomaPreRunner\n",
       "499993  2010    99841    IL           Ford       Expedition\n",
       "499994  2017    26065    VA           Ford        Escape4WD\n",
       "499995  2013    40393    TX            BMW                1\n",
       "499996  2012    91794    WA        Hyundai            Santa\n",
       "499997  2014    39107    MS           Ford            Super\n",
       "499998  2010    62556    NH          Dodge              Ram\n",
       "499999  2017    17653    NJ      Chevrolet      Suburban4WD\n",
       "\n",
       "[500000 rows x 5 columns]"
      ]
     },
     "execution_count": 8,
     "metadata": {},
     "output_type": "execute_result"
    }
   ],
   "source": [
    "# define features: exclude career statistics (which start with \"C\") and the response (Salary)\n",
    "feature_cols = data[['Year', 'Mileage', 'State', 'Make', 'Model']]\n",
    "feature_cols"
   ]
  },
  {
   "cell_type": "code",
   "execution_count": 19,
   "metadata": {},
   "outputs": [
    {
     "data": {
      "text/plain": [
       "0    21490\n",
       "1    21250\n",
       "2    20925\n",
       "3    14500\n",
       "4    32488\n",
       "Name: Price, dtype: int64"
      ]
     },
     "execution_count": 19,
     "metadata": {},
     "output_type": "execute_result"
    }
   ],
   "source": [
    "#data['HighPrice'] = (data['Price'] > data['Price'].mean()).astype(int) #Modelo de clasificación\n",
    "#data = data.drop(['Model', 'Price'], axis=1)\n",
    "y.head()"
   ]
  },
  {
   "cell_type": "code",
   "execution_count": 9,
   "metadata": {},
   "outputs": [],
   "source": [
    "# define X and y\n",
    "X = feature_cols"
   ]
  },
  {
   "cell_type": "code",
   "execution_count": 10,
   "metadata": {},
   "outputs": [],
   "source": [
    "y = data['Price']"
   ]
  },
  {
   "cell_type": "code",
   "execution_count": 11,
   "metadata": {
    "scrolled": true
   },
   "outputs": [
    {
     "name": "stdout",
     "output_type": "stream",
     "text": [
      "   Year  Mileage State       Make        Model\n",
      "0  2014    31909    MD     Nissan    MuranoAWD\n",
      "1  2016    25741    KY  Chevrolet  CamaroCoupe\n",
      "2  2016    24633    SC    Hyundai        Santa\n",
      "3  2012    84026    OK       Jeep        Grand\n",
      "4  2013    22816    TN       Jeep     Wrangler\n",
      "Index(['Year', 'Mileage', 'State', 'Make', 'Model'], dtype='object')\n"
     ]
    }
   ],
   "source": [
    "print(X.head())\n",
    "print(X.columns)"
   ]
  },
  {
   "cell_type": "code",
   "execution_count": 12,
   "metadata": {},
   "outputs": [
    {
     "name": "stdout",
     "output_type": "stream",
     "text": [
      "<class 'pandas.core.series.Series'>\n",
      "<class 'pandas.core.frame.DataFrame'>\n"
     ]
    }
   ],
   "source": [
    "print(type(y))\n",
    "print(type(X))"
   ]
  },
  {
   "cell_type": "code",
   "execution_count": 13,
   "metadata": {},
   "outputs": [],
   "source": [
    "X_1 = X[['Year','Mileage']]"
   ]
  },
  {
   "cell_type": "code",
   "execution_count": 14,
   "metadata": {},
   "outputs": [],
   "source": [
    "X_2 = pd.get_dummies(X[['State','Make','Model']])"
   ]
  },
  {
   "cell_type": "markdown",
   "metadata": {},
   "source": [
    "#### Después de categorizar las variables \"State\", \"Model\" y \"Make\", decidimos llevar a cabo un análisis de componentes prinicipales debido a la cantidad de dummies que se generan en el proceso"
   ]
  },
  {
   "cell_type": "code",
   "execution_count": 15,
   "metadata": {},
   "outputs": [],
   "source": [
    "from sklearn.decomposition import PCA\n",
    "pca = PCA().fit(X_2)"
   ]
  },
  {
   "cell_type": "code",
   "execution_count": 16,
   "metadata": {},
   "outputs": [
    {
     "data": {
      "image/png": "[encoded data removed]",
      "text/plain": [
       "<Figure size 432x288 with 1 Axes>"
      ]
     },
     "metadata": {
      "needs_background": "light"
     },
     "output_type": "display_data"
    }
   ],
   "source": [
    "import matplotlib.pyplot as plt\n",
    "plt.plot(np.cumsum(pca.explained_variance_ratio_))\n",
    "plt.xlabel('number of components')\n",
    "plt.ylabel('cumulative explained variance');"
   ]
  },
  {
   "cell_type": "markdown",
   "metadata": {},
   "source": [
    "### Selección del número de componentes del PCA. Se escogen discrecionalmente 99 componentes"
   ]
  },
  {
   "cell_type": "code",
   "execution_count": 17,
   "metadata": {},
   "outputs": [
    {
     "data": {
      "text/plain": [
       "0.8020774164260825"
      ]
     },
     "execution_count": 17,
     "metadata": {},
     "output_type": "execute_result"
    }
   ],
   "source": [
    "np_pca = np.cumsum(pca.explained_variance_ratio_)[99]\n",
    "np_pca"
   ]
  },
  {
   "cell_type": "code",
   "execution_count": 18,
   "metadata": {},
   "outputs": [],
   "source": [
    "pca_2 = PCA(n_components=100)"
   ]
  },
  {
   "cell_type": "code",
   "execution_count": 19,
   "metadata": {},
   "outputs": [],
   "source": [
    "pca_3 = pca_2.fit(X_2)"
   ]
  },
  {
   "cell_type": "code",
   "execution_count": 20,
   "metadata": {},
   "outputs": [
    {
     "data": {
      "text/plain": [
       "PCA(copy=True, iterated_power='auto', n_components=100, random_state=None,\n",
       "    svd_solver='auto', tol=0.0, whiten=False)"
      ]
     },
     "execution_count": 20,
     "metadata": {},
     "output_type": "execute_result"
    }
   ],
   "source": [
    "pca_3"
   ]
  },
  {
   "cell_type": "code",
   "execution_count": 21,
   "metadata": {},
   "outputs": [
    {
     "data": {
      "text/plain": [
       "(500000, 99)"
      ]
     },
     "execution_count": 21,
     "metadata": {},
     "output_type": "execute_result"
    }
   ],
   "source": [
    "componentes = []\n",
    "\n",
    "for i in range(0,99):\n",
    "    comp = np.dot(X_2, pca.components_[i])\n",
    "    componentes.append(comp)\n",
    "\n",
    "pcadf = pd.DataFrame(np.vstack((componentes)).T)\n",
    "pcadf.shape"
   ]
  },
  {
   "cell_type": "code",
   "execution_count": 22,
   "metadata": {},
   "outputs": [],
   "source": [
    "X = pd.merge(X_1,pcadf, left_index = True, right_index=True)"
   ]
  },
  {
   "cell_type": "code",
   "execution_count": 31,
   "metadata": {},
   "outputs": [
    {
     "data": {
      "text/html": [
       "<div>\n",
       "<style scoped>\n",
       "    .dataframe tbody tr th:only-of-type {\n",
       "        vertical-align: middle;\n",
       "    }\n",
       "\n",
       "    .dataframe tbody tr th {\n",
       "        vertical-align: top;\n",
       "    }\n",
       "\n",
       "    .dataframe thead th {\n",
       "        text-align: right;\n",
       "    }\n",
       "</style>\n",
       "<table border=\"1\" class=\"dataframe\">\n",
       "  <thead>\n",
       "    <tr style=\"text-align: right;\">\n",
       "      <th></th>\n",
       "      <th>Year</th>\n",
       "      <th>Mileage</th>\n",
       "      <th>0</th>\n",
       "      <th>1</th>\n",
       "      <th>2</th>\n",
       "      <th>3</th>\n",
       "      <th>4</th>\n",
       "      <th>5</th>\n",
       "      <th>6</th>\n",
       "      <th>7</th>\n",
       "      <th>...</th>\n",
       "      <th>89</th>\n",
       "      <th>90</th>\n",
       "      <th>91</th>\n",
       "      <th>92</th>\n",
       "      <th>93</th>\n",
       "      <th>94</th>\n",
       "      <th>95</th>\n",
       "      <th>96</th>\n",
       "      <th>97</th>\n",
       "      <th>98</th>\n",
       "    </tr>\n",
       "  </thead>\n",
       "  <tbody>\n",
       "    <tr>\n",
       "      <th>0</th>\n",
       "      <td>2014</td>\n",
       "      <td>31909</td>\n",
       "      <td>-0.003047</td>\n",
       "      <td>0.030986</td>\n",
       "      <td>-0.035649</td>\n",
       "      <td>0.025931</td>\n",
       "      <td>-0.013332</td>\n",
       "      <td>-0.032719</td>\n",
       "      <td>-0.027428</td>\n",
       "      <td>0.041287</td>\n",
       "      <td>...</td>\n",
       "      <td>0.005322</td>\n",
       "      <td>-0.072024</td>\n",
       "      <td>0.003497</td>\n",
       "      <td>-0.018186</td>\n",
       "      <td>-0.006448</td>\n",
       "      <td>-0.002154</td>\n",
       "      <td>-0.003061</td>\n",
       "      <td>-0.002536</td>\n",
       "      <td>-0.005590</td>\n",
       "      <td>-0.017480</td>\n",
       "    </tr>\n",
       "    <tr>\n",
       "      <th>1</th>\n",
       "      <td>2016</td>\n",
       "      <td>25741</td>\n",
       "      <td>0.728165</td>\n",
       "      <td>-0.527594</td>\n",
       "      <td>0.066863</td>\n",
       "      <td>-0.208215</td>\n",
       "      <td>-0.003349</td>\n",
       "      <td>0.111267</td>\n",
       "      <td>-0.056764</td>\n",
       "      <td>-0.064105</td>\n",
       "      <td>...</td>\n",
       "      <td>-0.004518</td>\n",
       "      <td>-0.076637</td>\n",
       "      <td>0.008371</td>\n",
       "      <td>0.144507</td>\n",
       "      <td>-0.005039</td>\n",
       "      <td>-0.000585</td>\n",
       "      <td>0.000688</td>\n",
       "      <td>0.004065</td>\n",
       "      <td>-0.007540</td>\n",
       "      <td>-0.010591</td>\n",
       "    </tr>\n",
       "    <tr>\n",
       "      <th>2</th>\n",
       "      <td>2016</td>\n",
       "      <td>24633</td>\n",
       "      <td>-0.002785</td>\n",
       "      <td>0.051216</td>\n",
       "      <td>-0.056949</td>\n",
       "      <td>0.037018</td>\n",
       "      <td>-0.025295</td>\n",
       "      <td>-0.075252</td>\n",
       "      <td>0.067372</td>\n",
       "      <td>0.101357</td>\n",
       "      <td>...</td>\n",
       "      <td>0.003022</td>\n",
       "      <td>-0.051158</td>\n",
       "      <td>-0.002731</td>\n",
       "      <td>-0.005505</td>\n",
       "      <td>-0.006542</td>\n",
       "      <td>0.000958</td>\n",
       "      <td>0.042528</td>\n",
       "      <td>0.004231</td>\n",
       "      <td>-0.002824</td>\n",
       "      <td>-0.011310</td>\n",
       "    </tr>\n",
       "    <tr>\n",
       "      <th>3</th>\n",
       "      <td>2012</td>\n",
       "      <td>84026</td>\n",
       "      <td>-0.004023</td>\n",
       "      <td>0.118829</td>\n",
       "      <td>-0.146807</td>\n",
       "      <td>0.216763</td>\n",
       "      <td>-0.071543</td>\n",
       "      <td>-0.678260</td>\n",
       "      <td>-0.135909</td>\n",
       "      <td>-0.852218</td>\n",
       "      <td>...</td>\n",
       "      <td>0.006508</td>\n",
       "      <td>-0.039833</td>\n",
       "      <td>-0.005243</td>\n",
       "      <td>-0.006302</td>\n",
       "      <td>-0.005954</td>\n",
       "      <td>-0.000491</td>\n",
       "      <td>0.000770</td>\n",
       "      <td>0.002537</td>\n",
       "      <td>-0.009887</td>\n",
       "      <td>-0.007103</td>\n",
       "    </tr>\n",
       "    <tr>\n",
       "      <th>4</th>\n",
       "      <td>2013</td>\n",
       "      <td>22816</td>\n",
       "      <td>-0.005781</td>\n",
       "      <td>0.094040</td>\n",
       "      <td>-0.119394</td>\n",
       "      <td>0.176684</td>\n",
       "      <td>-0.072932</td>\n",
       "      <td>-0.565185</td>\n",
       "      <td>-0.137398</td>\n",
       "      <td>-0.723208</td>\n",
       "      <td>...</td>\n",
       "      <td>0.003451</td>\n",
       "      <td>-0.041687</td>\n",
       "      <td>-0.000320</td>\n",
       "      <td>-0.008681</td>\n",
       "      <td>-0.003971</td>\n",
       "      <td>-0.000454</td>\n",
       "      <td>-0.000650</td>\n",
       "      <td>0.001404</td>\n",
       "      <td>-0.007438</td>\n",
       "      <td>-0.007732</td>\n",
       "    </tr>\n",
       "  </tbody>\n",
       "</table>\n",
       "<p>5 rows × 101 columns</p>\n",
       "</div>"
      ],
      "text/plain": [
       "   Year  Mileage         0         1         2         3         4         5  \\\n",
       "0  2014    31909 -0.003047  0.030986 -0.035649  0.025931 -0.013332 -0.032719   \n",
       "1  2016    25741  0.728165 -0.527594  0.066863 -0.208215 -0.003349  0.111267   \n",
       "2  2016    24633 -0.002785  0.051216 -0.056949  0.037018 -0.025295 -0.075252   \n",
       "3  2012    84026 -0.004023  0.118829 -0.146807  0.216763 -0.071543 -0.678260   \n",
       "4  2013    22816 -0.005781  0.094040 -0.119394  0.176684 -0.072932 -0.565185   \n",
       "\n",
       "          6         7  ...        89        90        91        92        93  \\\n",
       "0 -0.027428  0.041287  ...  0.005322 -0.072024  0.003497 -0.018186 -0.006448   \n",
       "1 -0.056764 -0.064105  ... -0.004518 -0.076637  0.008371  0.144507 -0.005039   \n",
       "2  0.067372  0.101357  ...  0.003022 -0.051158 -0.002731 -0.005505 -0.006542   \n",
       "3 -0.135909 -0.852218  ...  0.006508 -0.039833 -0.005243 -0.006302 -0.005954   \n",
       "4 -0.137398 -0.723208  ...  0.003451 -0.041687 -0.000320 -0.008681 -0.003971   \n",
       "\n",
       "         94        95        96        97        98  \n",
       "0 -0.002154 -0.003061 -0.002536 -0.005590 -0.017480  \n",
       "1 -0.000585  0.000688  0.004065 -0.007540 -0.010591  \n",
       "2  0.000958  0.042528  0.004231 -0.002824 -0.011310  \n",
       "3 -0.000491  0.000770  0.002537 -0.009887 -0.007103  \n",
       "4 -0.000454 -0.000650  0.001404 -0.007438 -0.007732  \n",
       "\n",
       "[5 rows x 101 columns]"
      ]
     },
     "execution_count": 31,
     "metadata": {},
     "output_type": "execute_result"
    }
   ],
   "source": [
    "X.head()"
   ]
  },
  {
   "cell_type": "markdown",
   "metadata": {},
   "source": [
    "### Definir train y test"
   ]
  },
  {
   "cell_type": "code",
   "execution_count": 23,
   "metadata": {},
   "outputs": [],
   "source": [
    "from sklearn.model_selection import train_test_split\n",
    "X_train, X_test, y_train, y_test = train_test_split(X, y, test_size=0.33, random_state=42)"
   ]
  },
  {
   "cell_type": "markdown",
   "metadata": {},
   "source": [
    "### XGBoost: Construcción del modelo"
   ]
  },
  {
   "cell_type": "code",
   "execution_count": 25,
   "metadata": {},
   "outputs": [],
   "source": [
    "#from xgboost import XGBClassifier\n",
    "import xgboost as xgb\n",
    "from sklearn.metrics import mean_squared_error\n",
    "\n",
    "reg = xgb.XGBRegressor( random_state=42)"
   ]
  },
  {
   "cell_type": "code",
   "execution_count": 54,
   "metadata": {},
   "outputs": [
    {
     "data": {
      "text/plain": [
       "XGBRegressor(base_score=None, booster=None, colsample_bylevel=None,\n",
       "             colsample_bynode=None, colsample_bytree=None, gamma=None,\n",
       "             gpu_id=None, importance_type='gain', interaction_constraints=None,\n",
       "             learning_rate=None, max_delta_step=None, max_depth=None,\n",
       "             min_child_weight=None, missing=nan, monotone_constraints=None,\n",
       "             n_estimators=100, n_jobs=None, num_parallel_tree=None,\n",
       "             objective='reg:squarederror', random_state=42, reg_alpha=None,\n",
       "             reg_lambda=None, scale_pos_weight=None, subsample=None,\n",
       "             tree_method=None, validate_parameters=None, verbosity=None)"
      ]
     },
     "execution_count": 54,
     "metadata": {},
     "output_type": "execute_result"
    }
   ],
   "source": [
    "reg"
   ]
  },
  {
   "cell_type": "code",
   "execution_count": 55,
   "metadata": {},
   "outputs": [
    {
     "data": {
      "text/plain": [
       "XGBRegressor(base_score=0.5, booster='gbtree', colsample_bylevel=1,\n",
       "             colsample_bynode=1, colsample_bytree=1, gamma=0, gpu_id=-1,\n",
       "             importance_type='gain', interaction_constraints='',\n",
       "             learning_rate=0.300000012, max_delta_step=0, max_depth=6,\n",
       "             min_child_weight=1, missing=nan, monotone_constraints='()',\n",
       "             n_estimators=100, n_jobs=0, num_parallel_tree=1,\n",
       "             objective='reg:squarederror', random_state=42, reg_alpha=0,\n",
       "             reg_lambda=1, scale_pos_weight=1, subsample=1, tree_method='exact',\n",
       "             validate_parameters=1, verbosity=None)"
      ]
     },
     "execution_count": 55,
     "metadata": {},
     "output_type": "execute_result"
    }
   ],
   "source": [
    "from sklearn import metrics\n",
    "\n",
    "reg.fit(X_train, y_train)"
   ]
  },
  {
   "cell_type": "code",
   "execution_count": 56,
   "metadata": {},
   "outputs": [],
   "source": [
    "y_pred = reg.predict(X_test)\n"
   ]
  },
  {
   "cell_type": "code",
   "execution_count": 61,
   "metadata": {},
   "outputs": [
    {
     "data": {
      "text/plain": [
       "6997.20464535731"
      ]
     },
     "execution_count": 61,
     "metadata": {},
     "output_type": "execute_result"
    }
   ],
   "source": [
    "mse=np.sqrt(mean_squared_error(y_test, y_pred))\n",
    "mse\n",
    "#metrics.f1_score(y_pred, y_test.values), metrics.accuracy_score(y_pred, y_test.values)"
   ]
  },
  {
   "cell_type": "markdown",
   "metadata": {},
   "source": [
    "Sin modificar ninguno de los parámetros el mse es de 6,997.20."
   ]
  },
  {
   "cell_type": "markdown",
   "metadata": {},
   "source": [
    "### Mejores parámetros XGBoost "
   ]
  },
  {
   "cell_type": "markdown",
   "metadata": {},
   "source": [
    "<b>Max Depth: </b>Profundidad máxima de los árboles con XGBoost."
   ]
  },
  {
   "cell_type": "code",
   "execution_count": 62,
   "metadata": {},
   "outputs": [],
   "source": [
    "#f1 = []\n",
    "#acc = []\n",
    "depth= []\n",
    "mse= []\n",
    "\n",
    "for i in range(1, 11): \n",
    "    reg = xgb.XGBRegressor(random_state=42, max_depth=i)\n",
    "    reg.fit(X_train, y_train)\n",
    "    y_pred = reg.predict(X_test)\n",
    "    mse.append(np.sqrt(mean_squared_error(y_test, y_pred)))\n",
    "    #f1.append(metrics.f1_score(y_pred, y_test.values))\n",
    "    #acc.append(metrics.accuracy_score(y_pred, y_test.values))\n",
    "    depth.append(i)"
   ]
  },
  {
   "cell_type": "code",
   "execution_count": 63,
   "metadata": {},
   "outputs": [
    {
     "name": "stdout",
     "output_type": "stream",
     "text": [
      "[1, 2, 3, 4, 5, 6, 7, 8, 9, 10]\n",
      "[6997.20464535731, 6089.903680000138, 5507.824419988071, 5089.727321128476, 4763.452162583056, 4537.104905867489, 4321.626983902218, 4149.946111577435, 4042.582596528673, 3955.384685521761]\n"
     ]
    }
   ],
   "source": [
    "print(depth)\n",
    "#print(f1)\n",
    "print(mse)"
   ]
  },
  {
   "cell_type": "code",
   "execution_count": 64,
   "metadata": {},
   "outputs": [
    {
     "data": {
      "text/html": [
       "<div>\n",
       "<style scoped>\n",
       "    .dataframe tbody tr th:only-of-type {\n",
       "        vertical-align: middle;\n",
       "    }\n",
       "\n",
       "    .dataframe tbody tr th {\n",
       "        vertical-align: top;\n",
       "    }\n",
       "\n",
       "    .dataframe thead th {\n",
       "        text-align: right;\n",
       "    }\n",
       "</style>\n",
       "<table border=\"1\" class=\"dataframe\">\n",
       "  <thead>\n",
       "    <tr style=\"text-align: right;\">\n",
       "      <th></th>\n",
       "      <th>Depth</th>\n",
       "      <th>MSE</th>\n",
       "    </tr>\n",
       "  </thead>\n",
       "  <tbody>\n",
       "    <tr>\n",
       "      <th>9</th>\n",
       "      <td>10</td>\n",
       "      <td>3955.384686</td>\n",
       "    </tr>\n",
       "  </tbody>\n",
       "</table>\n",
       "</div>"
      ],
      "text/plain": [
       "   Depth          MSE\n",
       "9     10  3955.384686"
      ]
     },
     "execution_count": 64,
     "metadata": {},
     "output_type": "execute_result"
    }
   ],
   "source": [
    "df = pd.DataFrame({'Depth':depth,'MSE':mse })\n",
    "df[df['MSE']==min(df['MSE'])]"
   ]
  },
  {
   "cell_type": "code",
   "execution_count": 65,
   "metadata": {},
   "outputs": [
    {
     "data": {
      "text/plain": [
       "<matplotlib.axes._subplots.AxesSubplot at 0x1f81f24c198>"
      ]
     },
     "execution_count": 65,
     "metadata": {},
     "output_type": "execute_result"
    },
    {
     "data": {
      "image/png": "[encoded data removed]",
      "text/plain": [
       "<Figure size 432x288 with 1 Axes>"
      ]
     },
     "metadata": {
      "needs_background": "light"
     },
     "output_type": "display_data"
    }
   ],
   "source": [
    "df['MSE'].plot()"
   ]
  },
  {
   "cell_type": "markdown",
   "metadata": {},
   "source": [
    "Teniendo en cuenta los resultados obtenidos, iterando la máxima profundidad del XGBoost se considera que una profundidad óptima de 10 seria ideal para no caer en problemas de overfitting. "
   ]
  },
  {
   "cell_type": "markdown",
   "metadata": {},
   "source": [
    "<b>Número de estimadores: </b>Número de árboles secuenciales dentro del modelo XGBoost."
   ]
  },
  {
   "cell_type": "code",
   "execution_count": 68,
   "metadata": {},
   "outputs": [
    {
     "name": "stdout",
     "output_type": "stream",
     "text": [
      "[1, 11, 21, 31, 41, 51, 61, 71, 81, 91, 101, 111, 121, 131, 141, 151, 161, 171, 181, 191, 201, 211, 221, 231, 241, 251, 261, 271, 281, 291]\n",
      "[17330.20118211352, 5046.121911465295, 4557.8796879466345, 4311.676467976063, 4196.366706709931, 4127.9277230567195, 4093.3671993666344, 4012.6587515801584, 3988.641835306995, 3974.60476316743, 3950.5747332372066, 3935.732429047117, 3922.085274002554, 3905.5359232196547, 3896.552133398501, 3888.7341468993495, 3879.4319904238896, 3870.9227141397787, 3867.403665267511, 3864.5431782451856, 3857.035262455465, 3852.737621118849, 3850.7915749024805, 3848.8376797311225, 3846.9030456848195, 3846.727360776481, 3846.5960131162005, 3845.579660734587, 3844.809877342771, 3844.3744095371812]\n"
     ]
    }
   ],
   "source": [
    "#f1 = []\n",
    "#acc = []\n",
    "estimators= []\n",
    "mse= []\n",
    "\n",
    "for i in range(1, 300,10): \n",
    "    reg = xgb.XGBRegressor(random_state=42, max_depth=10, n_estimators=i)\n",
    "    reg.fit(X_train, y_train)\n",
    "    y_pred = reg.predict(X_test)\n",
    "    mse.append(np.sqrt(mean_squared_error(y_test, y_pred)))\n",
    "    #f1.append(metrics.f1_score(y_pred, y_test.values))\n",
    "    #acc.append(metrics.accuracy_score(y_pred, y_test.values))\n",
    "    estimators.append(i)\n",
    "\n",
    "print(estimators)\n",
    "#print(f1)\n",
    "print(mse)"
   ]
  },
  {
   "cell_type": "code",
   "execution_count": 70,
   "metadata": {},
   "outputs": [
    {
     "data": {
      "text/html": [
       "<div>\n",
       "<style scoped>\n",
       "    .dataframe tbody tr th:only-of-type {\n",
       "        vertical-align: middle;\n",
       "    }\n",
       "\n",
       "    .dataframe tbody tr th {\n",
       "        vertical-align: top;\n",
       "    }\n",
       "\n",
       "    .dataframe thead th {\n",
       "        text-align: right;\n",
       "    }\n",
       "</style>\n",
       "<table border=\"1\" class=\"dataframe\">\n",
       "  <thead>\n",
       "    <tr style=\"text-align: right;\">\n",
       "      <th></th>\n",
       "      <th>n_estimators</th>\n",
       "      <th>MSE</th>\n",
       "    </tr>\n",
       "  </thead>\n",
       "  <tbody>\n",
       "    <tr>\n",
       "      <th>29</th>\n",
       "      <td>291</td>\n",
       "      <td>3844.37441</td>\n",
       "    </tr>\n",
       "  </tbody>\n",
       "</table>\n",
       "</div>"
      ],
      "text/plain": [
       "    n_estimators         MSE\n",
       "29           291  3844.37441"
      ]
     },
     "execution_count": 70,
     "metadata": {},
     "output_type": "execute_result"
    }
   ],
   "source": [
    "df = pd.DataFrame({'n_estimators':estimators,'MSE':mse })\n",
    "df[df['MSE']==min(df['MSE'])]"
   ]
  },
  {
   "cell_type": "markdown",
   "metadata": {},
   "source": [
    "El número de árboles secuenciales dentro del modelo XGBoost es de 291."
   ]
  },
  {
   "cell_type": "markdown",
   "metadata": {},
   "source": [
    "<b>Learning rate: </b>Este parámetro es un factor de ponderación de cada árbol para corregir los errores de los árboles anteriores, cuando se agregan al modelo. Es decir, que reduce la influencia de cadar arbol individual par que los arboles futuros mejoren el modelo. Al tener un learning rate de 1 se utulizan todos los componentes (variables) del conjunto anterior. "
   ]
  },
  {
   "cell_type": "code",
   "execution_count": 72,
   "metadata": {},
   "outputs": [
    {
     "name": "stdout",
     "output_type": "stream",
     "text": [
      "[0.01, 0.02, 0.03, 0.04, 0.05, 0.060000000000000005, 0.06999999999999999, 0.08, 0.09]\n",
      "[5274.455762233392, 4534.619159820372, 4286.43376031134, 4145.575243835653, 4089.586324317274, 4028.654757956491, 3975.7474114981082, 3925.1112758173167, 3915.658937112199]\n"
     ]
    }
   ],
   "source": [
    "#f1 = []\n",
    "mse = []\n",
    "lr= []\n",
    "\n",
    "\n",
    "for i in np.arange(0.01, 0.1, 0.01): \n",
    "    reg = xgb.XGBRegressor(random_state=42, max_depth=10, n_estimators =291, learning_rate=i)\n",
    "    reg.fit(X_train, y_train)\n",
    "    y_pred = reg.predict(X_test)\n",
    "    #f1.append(metrics.f1_score(y_pred, y_test.values))\n",
    "    #acc.append(metrics.accuracy_score(y_pred, y_test.values))\n",
    "    mse.append(np.sqrt(mean_squared_error(y_test, y_pred)))\n",
    "    lr.append(i)\n",
    "    \n",
    "print(lr)\n",
    "print(mse)\n",
    "#print(acc)"
   ]
  },
  {
   "cell_type": "code",
   "execution_count": 74,
   "metadata": {
    "scrolled": true
   },
   "outputs": [
    {
     "data": {
      "text/plain": [
       "Text(0, 0.5, 'MSE')"
      ]
     },
     "execution_count": 74,
     "metadata": {},
     "output_type": "execute_result"
    },
    {
     "data": {
      "image/png": "[encoded data removed]",
      "text/plain": [
       "<Figure size 432x288 with 1 Axes>"
      ]
     },
     "metadata": {
      "needs_background": "light"
     },
     "output_type": "display_data"
    }
   ],
   "source": [
    "plt.plot(lr, mse)\n",
    "plt.xlabel('Learning_rate')\n",
    "plt.ylabel('MSE')"
   ]
  },
  {
   "cell_type": "markdown",
   "metadata": {},
   "source": [
    "Se toma 0.08 ya que su mse es el más pequeño"
   ]
  },
  {
   "cell_type": "markdown",
   "metadata": {},
   "source": [
    "<b>Colsample by tree:</b> Indica la proporción de las variables a usar (seleccionadas al azar) para entrenar cada arbol. "
   ]
  },
  {
   "cell_type": "code",
   "execution_count": 75,
   "metadata": {},
   "outputs": [
    {
     "name": "stdout",
     "output_type": "stream",
     "text": [
      "[0.0, 0.1, 0.2, 0.30000000000000004, 0.4, 0.5, 0.6000000000000001, 0.7000000000000001, 0.8, 0.9]\n",
      "[8770.22838794007, 6743.3539340421485, 6113.395182241126, 5753.511529492769, 5561.620483133955, 5431.916641476674, 5364.676322606659, 5321.8655582225665, 5300.144552229067, 5276.416505516932]\n"
     ]
    }
   ],
   "source": [
    "mse = []\n",
    "cl= []\n",
    "\n",
    "for i in np.arange(0, 1, 0.1): \n",
    "    reg = xgb.XGBRegressor(random_state=42, max_depth=10, n_estimators =291, learning_rate=0.01, colsample_bytree=i )\n",
    "    reg.fit(X_train, y_train)\n",
    "    y_pred = reg.predict(X_test)\n",
    "    mse.append(np.sqrt(mean_squared_error(y_test, y_pred)))\n",
    "    cl.append(i)\n",
    "    \n",
    "print(cl)\n",
    "print(mse)"
   ]
  },
  {
   "cell_type": "code",
   "execution_count": null,
   "metadata": {},
   "outputs": [],
   "source": [
    "df = pd.DataFrame({'Colsample_bytree':cl,'MSE':mse })\n",
    "df[df['MSE']==min(df['MSE'])]"
   ]
  },
  {
   "cell_type": "code",
   "execution_count": 77,
   "metadata": {
    "scrolled": true
   },
   "outputs": [
    {
     "data": {
      "text/plain": [
       "Text(0, 0.5, 'MSE')"
      ]
     },
     "execution_count": 77,
     "metadata": {},
     "output_type": "execute_result"
    },
    {
     "data": {
      "image/png": "[encoded data removed]",
      "text/plain": [
       "<Figure size 432x288 with 1 Axes>"
      ]
     },
     "metadata": {
      "needs_background": "light"
     },
     "output_type": "display_data"
    }
   ],
   "source": [
    "plt.plot(cl, mse)\n",
    "plt.xlabel('colsample_bytree')\n",
    "plt.ylabel('MSE')"
   ]
  },
  {
   "cell_type": "markdown",
   "metadata": {},
   "source": [
    "De acuerdo al menor mse se procede a escoger el 60% de las variables."
   ]
  },
  {
   "cell_type": "markdown",
   "metadata": {},
   "source": [
    "### Modelo XGBoost con mejores parámetro"
   ]
  },
  {
   "cell_type": "code",
   "execution_count": 26,
   "metadata": {},
   "outputs": [
    {
     "name": "stdout",
     "output_type": "stream",
     "text": [
      "[21:34:18] WARNING: C:\\Users\\Administrator\\workspace\\xgboost-win64_release_1.1.0\\src\\learner.cc:480: \n",
      "Parameters: { n_estimator } might not be used.\n",
      "\n",
      "  This may not be accurate due to some parameters are only used in language bindings but\n",
      "  passed down to XGBoost core.  Or some parameters are not used but slip through this\n",
      "  verification. Please open an issue if you find above cases.\n",
      "\n",
      "\n"
     ]
    }
   ],
   "source": [
    "reg = xgb.XGBRegressor(random_state=42,max_depth=10, n_estimator=291, learning_rate=0.08, colsample_bytree=0.6)\n",
    "reg.fit(X_train, y_train)\n",
    "y_pred = reg.predict(X_test)\n",
    "mse =np.sqrt(mean_squared_error(y_test, y_pred))"
   ]
  },
  {
   "cell_type": "code",
   "execution_count": 93,
   "metadata": {},
   "outputs": [
    {
     "name": "stdout",
     "output_type": "stream",
     "text": [
      "4376.511956747956\n"
     ]
    }
   ],
   "source": [
    "print(mse)"
   ]
  },
  {
   "cell_type": "markdown",
   "metadata": {},
   "source": [
    "El modelo XGBoost con los mejóres parámetros genera un mse de 4,376. El mse se redujo en comparación con el modelo inicial, dado que era 6,997.20."
   ]
  },
  {
   "cell_type": "markdown",
   "metadata": {},
   "source": [
    "### K-fold cross validation manual con el modelo de los mejores parámetros "
   ]
  },
  {
   "cell_type": "code",
   "execution_count": 98,
   "metadata": {},
   "outputs": [],
   "source": [
    "y_X = pd.merge(y, X, left_index = True, right_index = True)"
   ]
  },
  {
   "cell_type": "code",
   "execution_count": 99,
   "metadata": {},
   "outputs": [],
   "source": [
    "k = 10\n",
    "folds = np.array_split(y_X, k)"
   ]
  },
  {
   "cell_type": "code",
   "execution_count": 100,
   "metadata": {},
   "outputs": [],
   "source": [
    "def perform(clf, train_set, test_set):\n",
    "    # Extraer campos de Precio de train y de test\n",
    "    train_labels = train_set.pop('Price').values\n",
    "    test_labels = test_set.pop('Price').values\n",
    "    reg.fit(train_set, train_labels)\n",
    "    return clf.score(test_set, test_labels)"
   ]
  },
  {
   "cell_type": "code",
   "execution_count": 101,
   "metadata": {},
   "outputs": [
    {
     "name": "stdout",
     "output_type": "stream",
     "text": [
      "[16:35:29] WARNING: C:\\Users\\Administrator\\workspace\\xgboost-win64_release_1.1.0\\src\\learner.cc:480: \n",
      "Parameters: { n_estimator } might not be used.\n",
      "\n",
      "  This may not be accurate due to some parameters are only used in language bindings but\n",
      "  passed down to XGBoost core.  Or some parameters are not used but slip through this\n",
      "  verification. Please open an issue if you find above cases.\n",
      "\n",
      "\n",
      "[16:39:00] WARNING: C:\\Users\\Administrator\\workspace\\xgboost-win64_release_1.1.0\\src\\learner.cc:480: \n",
      "Parameters: { n_estimator } might not be used.\n",
      "\n",
      "  This may not be accurate due to some parameters are only used in language bindings but\n",
      "  passed down to XGBoost core.  Or some parameters are not used but slip through this\n",
      "  verification. Please open an issue if you find above cases.\n",
      "\n",
      "\n",
      "[16:43:17] WARNING: C:\\Users\\Administrator\\workspace\\xgboost-win64_release_1.1.0\\src\\learner.cc:480: \n",
      "Parameters: { n_estimator } might not be used.\n",
      "\n",
      "  This may not be accurate due to some parameters are only used in language bindings but\n",
      "  passed down to XGBoost core.  Or some parameters are not used but slip through this\n",
      "  verification. Please open an issue if you find above cases.\n",
      "\n",
      "\n",
      "[16:47:28] WARNING: C:\\Users\\Administrator\\workspace\\xgboost-win64_release_1.1.0\\src\\learner.cc:480: \n",
      "Parameters: { n_estimator } might not be used.\n",
      "\n",
      "  This may not be accurate due to some parameters are only used in language bindings but\n",
      "  passed down to XGBoost core.  Or some parameters are not used but slip through this\n",
      "  verification. Please open an issue if you find above cases.\n",
      "\n",
      "\n",
      "[16:51:42] WARNING: C:\\Users\\Administrator\\workspace\\xgboost-win64_release_1.1.0\\src\\learner.cc:480: \n",
      "Parameters: { n_estimator } might not be used.\n",
      "\n",
      "  This may not be accurate due to some parameters are only used in language bindings but\n",
      "  passed down to XGBoost core.  Or some parameters are not used but slip through this\n",
      "  verification. Please open an issue if you find above cases.\n",
      "\n",
      "\n",
      "[16:55:52] WARNING: C:\\Users\\Administrator\\workspace\\xgboost-win64_release_1.1.0\\src\\learner.cc:480: \n",
      "Parameters: { n_estimator } might not be used.\n",
      "\n",
      "  This may not be accurate due to some parameters are only used in language bindings but\n",
      "  passed down to XGBoost core.  Or some parameters are not used but slip through this\n",
      "  verification. Please open an issue if you find above cases.\n",
      "\n",
      "\n",
      "[17:00:08] WARNING: C:\\Users\\Administrator\\workspace\\xgboost-win64_release_1.1.0\\src\\learner.cc:480: \n",
      "Parameters: { n_estimator } might not be used.\n",
      "\n",
      "  This may not be accurate due to some parameters are only used in language bindings but\n",
      "  passed down to XGBoost core.  Or some parameters are not used but slip through this\n",
      "  verification. Please open an issue if you find above cases.\n",
      "\n",
      "\n",
      "[17:04:18] WARNING: C:\\Users\\Administrator\\workspace\\xgboost-win64_release_1.1.0\\src\\learner.cc:480: \n",
      "Parameters: { n_estimator } might not be used.\n",
      "\n",
      "  This may not be accurate due to some parameters are only used in language bindings but\n",
      "  passed down to XGBoost core.  Or some parameters are not used but slip through this\n",
      "  verification. Please open an issue if you find above cases.\n",
      "\n",
      "\n",
      "[17:08:33] WARNING: C:\\Users\\Administrator\\workspace\\xgboost-win64_release_1.1.0\\src\\learner.cc:480: \n",
      "Parameters: { n_estimator } might not be used.\n",
      "\n",
      "  This may not be accurate due to some parameters are only used in language bindings but\n",
      "  passed down to XGBoost core.  Or some parameters are not used but slip through this\n",
      "  verification. Please open an issue if you find above cases.\n",
      "\n",
      "\n",
      "[17:12:48] WARNING: C:\\Users\\Administrator\\workspace\\xgboost-win64_release_1.1.0\\src\\learner.cc:480: \n",
      "Parameters: { n_estimator } might not be used.\n",
      "\n",
      "  This may not be accurate due to some parameters are only used in language bindings but\n",
      "  passed down to XGBoost core.  Or some parameters are not used but slip through this\n",
      "  verification. Please open an issue if you find above cases.\n",
      "\n",
      "\n",
      "[0.8339422217145893, 0.835042323981384, 0.8376937835649728, 0.8435129070215884, 0.8378664285222669, 0.8369916402238289, 0.8327328976465047, 0.8415093773002305, 0.8375876892086178, 0.8392206609694035]\n",
      "[4376.511956747956, 4376.511956747956, 4376.511956747956, 4376.511956747956, 4376.511956747956, 4376.511956747956, 4376.511956747956, 4376.511956747956, 4376.511956747956, 4376.511956747956]\n"
     ]
    }
   ],
   "source": [
    "score = []\n",
    "mse = []\n",
    "for i in range(k):\n",
    "    train = folds.copy() ## you wanna work on a copy of your array\n",
    "    test = folds[i]\n",
    "    del train[i]\n",
    "    train = pd.concat(train, sort=False) \n",
    "    score.append(perform(reg, train.copy(), test.copy())) # sacar el mejor rendimiento\n",
    "    mse.append(np.sqrt(mean_squared_error(y_test, y_pred)))\n",
    "print(score)\n",
    "print(mse)"
   ]
  },
  {
   "cell_type": "code",
   "execution_count": 102,
   "metadata": {},
   "outputs": [
    {
     "name": "stdout",
     "output_type": "stream",
     "text": [
      "4376.511956747956\n"
     ]
    }
   ],
   "source": [
    "average_score=sum(score)/10\n",
    "average_mse=sum(mse)/10\n",
    "\n",
    "print(average_mse)"
   ]
  },
  {
   "cell_type": "markdown",
   "metadata": {},
   "source": [
    "Luego de hacer el 10-fold validation encontramos que el error cuadrático medio es de 4,376. Con una varianza total explicada promedio de 84%."
   ]
  },
  {
   "cell_type": "markdown",
   "metadata": {},
   "source": [
    "# Exercise P2.2 (50%)\n",
    "\n",
    "Create an API of the model.\n",
    "\n",
    "Example:\n",
    "![](https://raw.githubusercontent.com/albahnsen/PracticalMachineLearningClass/master/notebooks/images/img015.PNG)\n",
    "\n",
    "#### Evaluation:\n",
    "- 40% - API hosted on a cloud service\n",
    "- 10% - Show screenshots of the model doing the predictions on the local machine\n"
   ]
  },
  {
   "cell_type": "markdown",
   "metadata": {},
   "source": [
    "#### Creación de la función para predecir el precio. El valor imputado a la función se pega a datacar_listings y con ello se calculan los 100 componentes principales necesarios para estimar el modelo. "
   ]
  },
  {
   "cell_type": "code",
   "execution_count": 27,
   "metadata": {},
   "outputs": [
    {
     "name": "stderr",
     "output_type": "stream",
     "text": [
      "C:\\Users\\Usuario\\Anaconda3\\lib\\site-packages\\sklearn\\externals\\joblib\\__init__.py:15: DeprecationWarning: sklearn.externals.joblib is deprecated in 0.21 and will be removed in 0.23. Please import this functionality directly from joblib, which can be installed with: pip install joblib. If this warning is raised when loading pickled models, you may need to re-serialize those models with scikit-learn 0.21+.\n",
      "  warnings.warn(msg, category=DeprecationWarning)\n"
     ]
    }
   ],
   "source": [
    "import numpy as np\n",
    "import pandas as pd\n",
    "from sklearn.externals import joblib\n",
    "from sklearn.decomposition import PCA\n",
    "import sys\n",
    "import os"
   ]
  },
  {
   "cell_type": "code",
   "execution_count": 28,
   "metadata": {
    "scrolled": true
   },
   "outputs": [
    {
     "ename": "NameError",
     "evalue": "name 'year' is not defined",
     "output_type": "error",
     "traceback": [
      "\u001b[1;31m---------------------------------------------------------------------------\u001b[0m",
      "\u001b[1;31mNameError\u001b[0m                                 Traceback (most recent call last)",
      "\u001b[1;32m<ipython-input-28-c23d6e959be9>\u001b[0m in \u001b[0;36m<module>\u001b[1;34m\u001b[0m\n\u001b[0;32m     32\u001b[0m \u001b[1;32mif\u001b[0m \u001b[0m__name__\u001b[0m \u001b[1;33m==\u001b[0m \u001b[1;34m\"__main__\"\u001b[0m\u001b[1;33m:\u001b[0m\u001b[1;33m\u001b[0m\u001b[1;33m\u001b[0m\u001b[0m\n\u001b[0;32m     33\u001b[0m \u001b[1;33m\u001b[0m\u001b[0m\n\u001b[1;32m---> 34\u001b[1;33m     \u001b[0mpred_precio\u001b[0m \u001b[1;33m=\u001b[0m \u001b[0mpredict_price\u001b[0m\u001b[1;33m(\u001b[0m\u001b[0myear\u001b[0m\u001b[1;33m,\u001b[0m \u001b[0mmileage\u001b[0m\u001b[1;33m,\u001b[0m \u001b[0mstate\u001b[0m\u001b[1;33m,\u001b[0m \u001b[0mmake\u001b[0m\u001b[1;33m,\u001b[0m \u001b[0mmodel\u001b[0m\u001b[1;33m)\u001b[0m\u001b[1;33m\u001b[0m\u001b[1;33m\u001b[0m\u001b[0m\n\u001b[0m\u001b[0;32m     35\u001b[0m     \u001b[0mprint\u001b[0m\u001b[1;33m(\u001b[0m\u001b[0myear\u001b[0m\u001b[1;33m,\u001b[0m \u001b[0mmileage\u001b[0m\u001b[1;33m,\u001b[0m \u001b[0mstate\u001b[0m\u001b[1;33m,\u001b[0m \u001b[0mmake\u001b[0m\u001b[1;33m,\u001b[0m \u001b[0mmodel\u001b[0m\u001b[1;33m)\u001b[0m\u001b[1;33m\u001b[0m\u001b[1;33m\u001b[0m\u001b[0m\n\u001b[0;32m     36\u001b[0m     \u001b[0mprint\u001b[0m\u001b[1;33m(\u001b[0m\u001b[1;34m\"Precio pronosticado\"\u001b[0m\u001b[1;33m,\u001b[0m \u001b[0mpred_precio\u001b[0m\u001b[1;33m)\u001b[0m\u001b[1;33m\u001b[0m\u001b[1;33m\u001b[0m\u001b[0m\n",
      "\u001b[1;31mNameError\u001b[0m: name 'year' is not defined"
     ]
    }
   ],
   "source": [
    "def predict_price(year, mileage, state, make, model):\n",
    "    # \n",
    "    reg = joblib.load(os.path.dirname(__file__) + '/price_reg.pkl')\n",
    "    year_mil = pd.DataFrame(data = [[year,mileage]], columns = ['Year', 'Mileage']).astype(int)\n",
    "    categoricas = pd.DataFrame(data = [[state, make, model]],columns = ['State', 'Make', 'Model']).astype(str)\n",
    "    data_input = pd.merge(year_mil,categoricas, left_index = True, right_index=True)\n",
    "    #print(data_input)\n",
    "    \n",
    "    data = pd.read_csv('dataTrain_carListings.csv')\n",
    "    \n",
    "    data = data.append(data_input)\n",
    "    \n",
    "    X_2 = pd.get_dummies(data[['State', 'Make', 'Model']])\n",
    "    pca = PCA(n_components = 100).fit(X_2)\n",
    "    #print(pca)\n",
    "    \n",
    "    componentes = []\n",
    "    \n",
    "    for i in range(0,99):\n",
    "        comp = np.dot(X_2[-1:], pca.components_[i])\n",
    "        componentes.append(comp)\n",
    "    pcadf = pd.DataFrame(np.vstack((componentes)).T)\n",
    "    \n",
    "    X = pd.merge(year_mil, pcadf, left_index = True, right_index=True)\n",
    "    #print(X)\n",
    "    \n",
    "    #Make prediction\n",
    "    pred_precio = reg.predict(X)\n",
    "    \n",
    "    return pred_precio\n",
    "\n",
    "if __name__ == \"__main__\":\n",
    "    \n",
    "    pred_precio = predict_price(year, mileage, state, make, model)\n",
    "    print(year, mileage, state, make, model)\n",
    "    print(\"Precio pronosticado\", pred_precio)"
   ]
  },
  {
   "cell_type": "code",
   "execution_count": null,
   "metadata": {},
   "outputs": [],
   "source": []
  },
  {
   "cell_type": "markdown",
   "metadata": {},
   "source": [
    "#### Creación del pickle."
   ]
  },
  {
   "cell_type": "code",
   "execution_count": 29,
   "metadata": {},
   "outputs": [
    {
     "data": {
      "text/plain": [
       "['model_deployment/price_reg.pkl']"
      ]
     },
     "execution_count": 29,
     "metadata": {},
     "output_type": "execute_result"
    }
   ],
   "source": [
    "from sklearn.externals import joblib\n",
    "\n",
    "joblib.dump(reg, 'model_deployment/price_reg.pkl', compress=3)"
   ]
  },
  {
   "cell_type": "code",
   "execution_count": 30,
   "metadata": {},
   "outputs": [],
   "source": [
    "from model_deployment.model_deployment_price import predict_price"
   ]
  },
  {
   "cell_type": "code",
   "execution_count": 31,
   "metadata": {},
   "outputs": [],
   "source": [
    "#import sys\n",
    "#del sys.modules[\"model_deployment.model_deployment_price\"]"
   ]
  },
  {
   "cell_type": "markdown",
   "metadata": {},
   "source": [
    "#### Al llamar la función predict_price sobre un Jeep Wrangler a venderse en Tenesse con 100mil millas de distancia recorrida y del año 1997, el modelo entrenado arroja un valor pronosticado de 14.821 dólares."
   ]
  },
  {
   "cell_type": "code",
   "execution_count": 32,
   "metadata": {},
   "outputs": [
    {
     "name": "stderr",
     "output_type": "stream",
     "text": [
      "C:\\Users\\Usuario\\Anaconda3\\lib\\site-packages\\pandas\\core\\frame.py:6692: FutureWarning: Sorting because non-concatenation axis is not aligned. A future version\n",
      "of pandas will change to not sort by default.\n",
      "\n",
      "To accept the future behavior, pass 'sort=False'.\n",
      "\n",
      "To retain the current behavior and silence the warning, pass 'sort=True'.\n",
      "\n",
      "  sort=sort)\n"
     ]
    },
    {
     "data": {
      "text/plain": [
       "array([15078.264], dtype=float32)"
      ]
     },
     "execution_count": 32,
     "metadata": {},
     "output_type": "execute_result"
    }
   ],
   "source": [
    "predict_price('1997', '100000', 'TN', 'Jeep', 'Wrangler')"
   ]
  },
  {
   "cell_type": "markdown",
   "metadata": {},
   "source": [
    "#### Creación de la API con flask-restx"
   ]
  },
  {
   "cell_type": "code",
   "execution_count": 33,
   "metadata": {},
   "outputs": [],
   "source": [
    "from flask import Flask\n",
    "from flask_restx import Api, Resource, fields\n",
    "from sklearn.externals import joblib"
   ]
  },
  {
   "cell_type": "code",
   "execution_count": 34,
   "metadata": {},
   "outputs": [],
   "source": [
    "app = Flask(__name__)\n",
    "\n",
    "api = Api(\n",
    "    app,\n",
    "    version='1.0',\n",
    "    title = 'Prediciendo el precio de un automóvil',\n",
    "    description = 'Modelo XGBoost para predecir el precio')\n",
    "\n",
    "ns = api.namespace('predict', \n",
    "     description='Auto price predictor')\n",
    "   \n",
    "parser = api.parser()\n",
    "\n",
    "parser.add_argument(\n",
    "    'Year/Año', \n",
    "    type=int, \n",
    "    required=True, \n",
    "    help='Año/Modelo del vehículo', \n",
    "    location='args')\n",
    "\n",
    "parser.add_argument(\n",
    "    'Mileage/Millaje', \n",
    "    type=int, \n",
    "    required=True, \n",
    "    help='Millas recorridas en el vehículo', \n",
    "    location='args')\n",
    "\n",
    "parser.add_argument(\n",
    "    'State/Estado', \n",
    "    type=str, \n",
    "    required=True, \n",
    "    help='Estado de los Estados Unidos de América. Ingresar un argumento de máximo 2 posiciones', \n",
    "    location='args')\n",
    "\n",
    "parser.add_argument(\n",
    "    'Make/Fabricante', \n",
    "    type=str, \n",
    "    required=True, \n",
    "    help='Fabricante del vehículo', \n",
    "    location='args')\n",
    "\n",
    "parser.add_argument(\n",
    "    'Model', \n",
    "    type=str, \n",
    "    required=True, \n",
    "    help='Modelo del vehículo', \n",
    "    location='args')\n",
    "\n",
    "\n",
    "resource_fields = api.model('Resource', {\n",
    "    'result': fields.String,\n",
    "})"
   ]
  },
  {
   "cell_type": "code",
   "execution_count": 35,
   "metadata": {},
   "outputs": [],
   "source": [
    "from model_deployment.model_deployment_price import predict_price"
   ]
  },
  {
   "cell_type": "code",
   "execution_count": 36,
   "metadata": {},
   "outputs": [
    {
     "name": "stdout",
     "output_type": "stream",
     "text": [
      " * Serving Flask app \"__main__\" (lazy loading)\n",
      " * Environment: production\n",
      "   WARNING: This is a development server. Do not use it in a production deployment.\n",
      "   Use a production WSGI server instead.\n",
      " * Debug mode: on\n"
     ]
    },
    {
     "name": "stderr",
     "output_type": "stream",
     "text": [
      " * Running on http://0.0.0.0:5000/ (Press CTRL+C to quit)\n"
     ]
    }
   ],
   "source": [
    "@ns.route('/')\n",
    "\n",
    "class PriceApi(Resource):\n",
    "\n",
    "    @api.doc(parser=parser)\n",
    "    @api.marshal_with(resource_fields)\n",
    "    def get(self):\n",
    "        args = parser.parse_args()\n",
    "        \n",
    "        years = args['Year/Año'] \n",
    "        mil = args['Mileage/Millaje'] \n",
    "        stat = args['State/Estado']\n",
    "        meik = args['Make/Fabricante']\n",
    "        mod = args['Model']\n",
    "        return {\n",
    "         \"result\": predict_price(years, mil, stat, meik, mod)\n",
    "        }, 200\n",
    "    \n",
    "    \n",
    "if __name__ == '__main__':\n",
    "    app.run(debug=True, use_reloader=False, host='0.0.0.0', port=5000)"
   ]
  },
  {
   "cell_type": "markdown",
   "metadata": {},
   "source": [
    "### Resultados del cargue de la API en AWS"
   ]
  },
  {
   "cell_type": "markdown",
   "metadata": {},
   "source": [
    "![title](API_0.png)"
   ]
  },
  {
   "cell_type": "markdown",
   "metadata": {},
   "source": [
    "![title](API_1.png)"
   ]
  },
  {
   "cell_type": "markdown",
   "metadata": {},
   "source": [
    "![title](API_2.png)"
   ]
  },
  {
   "cell_type": "markdown",
   "metadata": {},
   "source": [
    "### Resultados de la API en localhost:5000 (no AWS)"
   ]
  },
  {
   "cell_type": "markdown",
   "metadata": {},
   "source": [
    "![title](API_4.png)"
   ]
  },
  {
   "cell_type": "markdown",
   "metadata": {},
   "source": [
    "![title](API_3.png)"
   ]
  },
  {
   "cell_type": "markdown",
   "metadata": {},
   "source": [
    "#### URL de la API:\n",
    "\n",
    "http://ec2-18-218-202-150.us-east-2.compute.amazonaws.com:5000/"
   ]
  },
  {
   "cell_type": "code",
   "execution_count": null,
   "metadata": {},
   "outputs": [],
   "source": []
  }
 ],
 "metadata": {
  "kernelspec": {
   "display_name": "Python 3",
   "language": "python",
   "name": "python3"
  },
  "language_info": {
   "codemirror_mode": {
    "name": "ipython",
    "version": 3
   },
   "file_extension": ".py",
   "mimetype": "text/x-python",
   "name": "python",
   "nbconvert_exporter": "python",
   "pygments_lexer": "ipython3",
   "version": "3.7.3"
  }
 },
 "nbformat": 4,
 "nbformat_minor": 4
}
